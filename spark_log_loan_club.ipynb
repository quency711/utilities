{
 "cells": [
  {
   "cell_type": "code",
   "execution_count": 1,
   "metadata": {},
   "outputs": [],
   "source": [
    "sc.stop()"
   ]
  },
  {
   "cell_type": "code",
   "execution_count": 2,
   "metadata": {},
   "outputs": [],
   "source": [
    "from pyspark import SparkConf, SparkContext\n",
    "from pyspark.sql import SQLContext\n",
    "sc= SparkContext()\n",
    "sqlContext = SQLContext(sc)"
   ]
  },
  {
   "cell_type": "code",
   "execution_count": 3,
   "metadata": {},
   "outputs": [],
   "source": [
    "import pandas as pd\n",
    "df=pd.read_csv('file.csv')"
   ]
  },
  {
   "cell_type": "code",
   "execution_count": 4,
   "metadata": {},
   "outputs": [
    {
     "data": {
      "text/html": [
       "<div>\n",
       "<style scoped>\n",
       "    .dataframe tbody tr th:only-of-type {\n",
       "        vertical-align: middle;\n",
       "    }\n",
       "\n",
       "    .dataframe tbody tr th {\n",
       "        vertical-align: top;\n",
       "    }\n",
       "\n",
       "    .dataframe thead th {\n",
       "        text-align: right;\n",
       "    }\n",
       "</style>\n",
       "<table border=\"1\" class=\"dataframe\">\n",
       "  <thead>\n",
       "    <tr style=\"text-align: right;\">\n",
       "      <th></th>\n",
       "      <th>percent_bc_gt_75</th>\n",
       "      <th>mo_sin_old_il_acct</th>\n",
       "      <th>is_il</th>\n",
       "      <th>bc_open_to_buy</th>\n",
       "      <th>mths_since_recent_inq</th>\n",
       "      <th>revol_bal</th>\n",
       "      <th>is_tx</th>\n",
       "      <th>total_il_high_credit_limit</th>\n",
       "      <th>emp_length</th>\n",
       "      <th>avg_cur_bal</th>\n",
       "      <th>...</th>\n",
       "      <th>pct_tl_nvr_dlq</th>\n",
       "      <th>annual_inc</th>\n",
       "      <th>term</th>\n",
       "      <th>acc_open_past_24mths</th>\n",
       "      <th>is_ny</th>\n",
       "      <th>is_fl</th>\n",
       "      <th>dti</th>\n",
       "      <th>mths_since_recent_bc</th>\n",
       "      <th>pub_rec</th>\n",
       "      <th>status</th>\n",
       "    </tr>\n",
       "  </thead>\n",
       "  <tbody>\n",
       "    <tr>\n",
       "      <th>0</th>\n",
       "      <td>14.3</td>\n",
       "      <td>76.0</td>\n",
       "      <td>0</td>\n",
       "      <td>0.730673</td>\n",
       "      <td>1.000000</td>\n",
       "      <td>0.589712</td>\n",
       "      <td>0</td>\n",
       "      <td>1.088942</td>\n",
       "      <td>8</td>\n",
       "      <td>0.916923</td>\n",
       "      <td>...</td>\n",
       "      <td>83.3</td>\n",
       "      <td>5.576923</td>\n",
       "      <td>36.0</td>\n",
       "      <td>7.0</td>\n",
       "      <td>0</td>\n",
       "      <td>0</td>\n",
       "      <td>14.92</td>\n",
       "      <td>5.0</td>\n",
       "      <td>0.0</td>\n",
       "      <td>1.0</td>\n",
       "    </tr>\n",
       "    <tr>\n",
       "      <th>1</th>\n",
       "      <td>0.0</td>\n",
       "      <td>103.0</td>\n",
       "      <td>0</td>\n",
       "      <td>0.635000</td>\n",
       "      <td>6.817933</td>\n",
       "      <td>9.200533</td>\n",
       "      <td>0</td>\n",
       "      <td>0.800000</td>\n",
       "      <td>10</td>\n",
       "      <td>1.988533</td>\n",
       "      <td>...</td>\n",
       "      <td>100.0</td>\n",
       "      <td>5.200000</td>\n",
       "      <td>60.0</td>\n",
       "      <td>5.0</td>\n",
       "      <td>0</td>\n",
       "      <td>0</td>\n",
       "      <td>12.03</td>\n",
       "      <td>47.0</td>\n",
       "      <td>0.0</td>\n",
       "      <td>0.0</td>\n",
       "    </tr>\n",
       "    <tr>\n",
       "      <th>2</th>\n",
       "      <td>60.0</td>\n",
       "      <td>183.0</td>\n",
       "      <td>0</td>\n",
       "      <td>0.676458</td>\n",
       "      <td>17.000000</td>\n",
       "      <td>1.707083</td>\n",
       "      <td>0</td>\n",
       "      <td>2.592708</td>\n",
       "      <td>10</td>\n",
       "      <td>0.334792</td>\n",
       "      <td>...</td>\n",
       "      <td>100.0</td>\n",
       "      <td>7.187500</td>\n",
       "      <td>36.0</td>\n",
       "      <td>8.0</td>\n",
       "      <td>0</td>\n",
       "      <td>0</td>\n",
       "      <td>25.81</td>\n",
       "      <td>24.0</td>\n",
       "      <td>0.0</td>\n",
       "      <td>0.0</td>\n",
       "    </tr>\n",
       "    <tr>\n",
       "      <th>3</th>\n",
       "      <td>100.0</td>\n",
       "      <td>137.0</td>\n",
       "      <td>0</td>\n",
       "      <td>0.043399</td>\n",
       "      <td>3.000000</td>\n",
       "      <td>2.198954</td>\n",
       "      <td>0</td>\n",
       "      <td>8.370065</td>\n",
       "      <td>0</td>\n",
       "      <td>0.765621</td>\n",
       "      <td>...</td>\n",
       "      <td>100.0</td>\n",
       "      <td>6.535948</td>\n",
       "      <td>36.0</td>\n",
       "      <td>6.0</td>\n",
       "      <td>0</td>\n",
       "      <td>0</td>\n",
       "      <td>34.81</td>\n",
       "      <td>17.0</td>\n",
       "      <td>0.0</td>\n",
       "      <td>1.0</td>\n",
       "    </tr>\n",
       "    <tr>\n",
       "      <th>4</th>\n",
       "      <td>100.0</td>\n",
       "      <td>135.0</td>\n",
       "      <td>0</td>\n",
       "      <td>0.015123</td>\n",
       "      <td>7.000000</td>\n",
       "      <td>0.764247</td>\n",
       "      <td>0</td>\n",
       "      <td>1.660350</td>\n",
       "      <td>6</td>\n",
       "      <td>0.197526</td>\n",
       "      <td>...</td>\n",
       "      <td>91.4</td>\n",
       "      <td>2.977830</td>\n",
       "      <td>60.0</td>\n",
       "      <td>4.0</td>\n",
       "      <td>0</td>\n",
       "      <td>0</td>\n",
       "      <td>18.49</td>\n",
       "      <td>7.0</td>\n",
       "      <td>0.0</td>\n",
       "      <td>0.0</td>\n",
       "    </tr>\n",
       "  </tbody>\n",
       "</table>\n",
       "<p>5 rows × 43 columns</p>\n",
       "</div>"
      ],
      "text/plain": [
       "   percent_bc_gt_75  mo_sin_old_il_acct  is_il  bc_open_to_buy  \\\n",
       "0              14.3                76.0      0        0.730673   \n",
       "1               0.0               103.0      0        0.635000   \n",
       "2              60.0               183.0      0        0.676458   \n",
       "3             100.0               137.0      0        0.043399   \n",
       "4             100.0               135.0      0        0.015123   \n",
       "\n",
       "   mths_since_recent_inq  revol_bal  is_tx  total_il_high_credit_limit  \\\n",
       "0               1.000000   0.589712      0                    1.088942   \n",
       "1               6.817933   9.200533      0                    0.800000   \n",
       "2              17.000000   1.707083      0                    2.592708   \n",
       "3               3.000000   2.198954      0                    8.370065   \n",
       "4               7.000000   0.764247      0                    1.660350   \n",
       "\n",
       "   emp_length  avg_cur_bal  ...  pct_tl_nvr_dlq  annual_inc  term  \\\n",
       "0           8     0.916923  ...            83.3    5.576923  36.0   \n",
       "1          10     1.988533  ...           100.0    5.200000  60.0   \n",
       "2          10     0.334792  ...           100.0    7.187500  36.0   \n",
       "3           0     0.765621  ...           100.0    6.535948  36.0   \n",
       "4           6     0.197526  ...            91.4    2.977830  60.0   \n",
       "\n",
       "   acc_open_past_24mths  is_ny  is_fl    dti  mths_since_recent_bc  pub_rec  \\\n",
       "0                   7.0      0      0  14.92                   5.0      0.0   \n",
       "1                   5.0      0      0  12.03                  47.0      0.0   \n",
       "2                   8.0      0      0  25.81                  24.0      0.0   \n",
       "3                   6.0      0      0  34.81                  17.0      0.0   \n",
       "4                   4.0      0      0  18.49                   7.0      0.0   \n",
       "\n",
       "   status  \n",
       "0     1.0  \n",
       "1     0.0  \n",
       "2     0.0  \n",
       "3     1.0  \n",
       "4     0.0  \n",
       "\n",
       "[5 rows x 43 columns]"
      ]
     },
     "execution_count": 4,
     "metadata": {},
     "output_type": "execute_result"
    }
   ],
   "source": [
    "df.head()"
   ]
  },
  {
   "cell_type": "code",
   "execution_count": 5,
   "metadata": {},
   "outputs": [
    {
     "data": {
      "text/plain": [
       "[Row(percent_bc_gt_75=14.3, mo_sin_old_il_acct=76.0, is_il=0, bc_open_to_buy=0.7306730769230769, mths_since_recent_inq=1.0, revol_bal=0.5897115384615385, is_tx=0, total_il_high_credit_limit=1.0889423076923077, emp_length=8, avg_cur_bal=0.916923076923077, acc_now_delinq=0.0, is_ca=1, delinq_amnt=0.0, num_tl_90g_dpd_24m=0.0, total_acc=36.0, num_bc_tl=18.0, inq_last_6mths=2.0, revol_util=31.6, mo_sin_rcnt_rev_tl_op=1.0, chargeoff_within_12_mths=0.0, num_il_tl=2.0, delinq_2yrs=0.0, is_ga=0, num_actv_bc_tl=6.0, collections_12_mths_ex_med=0.0, num_accts_ever_120_pd=4.0, mo_sin_rcnt_tl=1.0, num_tl_op_past_12m=4.0, mo_sin_old_rev_tl_op=290.0, tot_coll_amt=0.0, tax_liens=0.0, pub_rec_bankruptcies=0.0, mort_acc=1.0, pct_tl_nvr_dlq=83.3, annual_inc=5.5769230769230775, term=36.0, acc_open_past_24mths=7.0, is_ny=0, is_fl=0, dti=14.92, mths_since_recent_bc=5.0, pub_rec=0.0, status=1.0),\n",
       " Row(percent_bc_gt_75=0.0, mo_sin_old_il_acct=103.0, is_il=0, bc_open_to_buy=0.635, mths_since_recent_inq=6.817932630292606, revol_bal=9.200533333333333, is_tx=0, total_il_high_credit_limit=0.8, emp_length=10, avg_cur_bal=1.9885333333333333, acc_now_delinq=0.0, is_ca=0, delinq_amnt=0.0, num_tl_90g_dpd_24m=0.0, total_acc=17.0, num_bc_tl=2.0, inq_last_6mths=0.0, revol_util=29.0, mo_sin_rcnt_rev_tl_op=1.0, chargeoff_within_12_mths=0.0, num_il_tl=8.0, delinq_2yrs=0.0, is_ga=0, num_actv_bc_tl=1.0, collections_12_mths_ex_med=0.0, num_accts_ever_120_pd=0.0, mo_sin_rcnt_tl=1.0, num_tl_op_past_12m=4.0, mo_sin_old_rev_tl_op=244.0, tot_coll_amt=0.0, tax_liens=0.0, pub_rec_bankruptcies=0.0, mort_acc=0.0, pct_tl_nvr_dlq=100.0, annual_inc=5.2, term=60.0, acc_open_past_24mths=5.0, is_ny=0, is_fl=0, dti=12.03, mths_since_recent_bc=47.0, pub_rec=0.0, status=0.0)]"
      ]
     },
     "execution_count": 5,
     "metadata": {},
     "output_type": "execute_result"
    }
   ],
   "source": [
    "loan_df = sqlContext.read.format('com.databricks.spark.csv').options(header='true', inferschema='true').load('file.csv')\n",
    "loan_df.take(2)"
   ]
  },
  {
   "cell_type": "code",
   "execution_count": 6,
   "metadata": {},
   "outputs": [
    {
     "name": "stdout",
     "output_type": "stream",
     "text": [
      "Correlation to status for  percent_bc_gt_75 0.06639308650853237\n",
      "Correlation to status for  mo_sin_old_il_acct -0.019950707097505915\n",
      "Correlation to status for  is_il -0.010665903276015586\n",
      "Correlation to status for  bc_open_to_buy -0.06740349705190313\n",
      "Correlation to status for  mths_since_recent_inq -0.04553758806326363\n",
      "Correlation to status for  revol_bal -0.03881904273829869\n",
      "Correlation to status for  is_tx -0.008753230632103804\n",
      "Correlation to status for  total_il_high_credit_limit -0.03835214266586034\n",
      "Correlation to status for  emp_length -0.013459890670274545\n",
      "Correlation to status for  avg_cur_bal -0.06623224609064417\n",
      "Correlation to status for  acc_now_delinq 0.003041884542269132\n",
      "Correlation to status for  is_ca -0.00878497967289415\n",
      "Correlation to status for  delinq_amnt -0.0015326844217593593\n",
      "Correlation to status for  num_tl_90g_dpd_24m 0.004782000749666461\n",
      "Correlation to status for  total_acc -0.0063561040066582065\n",
      "Correlation to status for  num_bc_tl -0.008925142822772614\n",
      "Correlation to status for  inq_last_6mths 0.0549775675589136\n",
      "Correlation to status for  revol_util 0.0562085416448315\n",
      "Correlation to status for  mo_sin_rcnt_rev_tl_op -0.051155096178127704\n",
      "Correlation to status for  chargeoff_within_12_mths -0.0017631002116305424\n",
      "Correlation to status for  num_il_tl 0.0052617477338742285\n",
      "Correlation to status for  delinq_2yrs 0.011088242368959233\n",
      "Correlation to status for  is_ga -0.006499193164009536\n",
      "Correlation to status for  num_actv_bc_tl 0.030057057333286168\n",
      "Correlation to status for  collections_12_mths_ex_med 0.007336240119806589\n",
      "Correlation to status for  num_accts_ever_120_pd 0.00873140673527576\n",
      "Correlation to status for  mo_sin_rcnt_tl -0.05554643325250328\n",
      "Correlation to status for  num_tl_op_past_12m 0.0769331424726485\n",
      "Correlation to status for  mo_sin_old_rev_tl_op -0.042735189854322814\n",
      "Correlation to status for  tot_coll_amt -0.00040736896795015755\n",
      "Correlation to status for  tax_liens 0.001600504488302274\n",
      "Correlation to status for  pub_rec_bankruptcies 0.010667709285296078\n",
      "Correlation to status for  mort_acc -0.05075413376564874\n",
      "Correlation to status for  pct_tl_nvr_dlq -0.0005124561840774513\n",
      "Correlation to status for  annual_inc -0.07864075653286767\n",
      "Correlation to status for  term 0.17631778281572885\n",
      "Correlation to status for  acc_open_past_24mths 0.09095725925920228\n",
      "Correlation to status for  is_ny 0.013026063974470599\n",
      "Correlation to status for  is_fl 0.010118788570891624\n",
      "Correlation to status for  dti 0.09133002005912466\n",
      "Correlation to status for  mths_since_recent_bc -0.048675525202757676\n",
      "Correlation to status for  pub_rec 0.011323431434657293\n",
      "Correlation to status for  status 1.0\n"
     ]
    }
   ],
   "source": [
    "import six\n",
    "for i in loan_df.columns:\n",
    "    if not( isinstance(loan_df.select(i).take(1)[0][0], six.string_types)):##only for numeric values \n",
    "        print( \"Correlation to status for \", i, loan_df.stat.corr('status',i))"
   ]
  },
  {
   "cell_type": "code",
   "execution_count": 7,
   "metadata": {},
   "outputs": [
    {
     "name": "stdout",
     "output_type": "stream",
     "text": [
      "+--------------------+------+\n",
      "|            features|status|\n",
      "+--------------------+------+\n",
      "|[0.73067307692307...|   1.0|\n",
      "|    [0.635,1.0,60.0]|   0.0|\n",
      "|[0.67645833333333...|   0.0|\n",
      "|[0.04339869281045...|   1.0|\n",
      "|[0.01512252042007...|   0.0|\n",
      "|[0.00417647058823...|   0.0|\n",
      "|[0.17050375133976...|   1.0|\n",
      "|   [0.5332,6.0,36.0]|   0.0|\n",
      "|[0.20069364161849...|   1.0|\n",
      "|[2.31466666666666...|   0.0|\n",
      "|[0.1599375,17.0,6...|   0.0|\n",
      "|  [0.0324,31.0,36.0]|   1.0|\n",
      "|    [0.195,3.0,36.0]|   0.0|\n",
      "|   [0.182,14.0,36.0]|   0.0|\n",
      "|    [0.184,3.0,36.0]|   0.0|\n",
      "|    [1.818,4.0,36.0]|   0.0|\n",
      "|  [0.08025,6.0,36.0]|   0.0|\n",
      "|[0.60771428571428...|   0.0|\n",
      "|[0.17300000000000...|   0.0|\n",
      "|  [15.561,18.0,36.0]|   0.0|\n",
      "+--------------------+------+\n",
      "only showing top 20 rows\n",
      "\n"
     ]
    }
   ],
   "source": [
    "from pyspark.ml.feature import VectorAssembler\n",
    "vectorAssembler = VectorAssembler(inputCols = ['bc_open_to_buy','mo_sin_rcnt_tl','term'], outputCol = 'features')\n",
    "vhouse_df = vectorAssembler.transform(loan_df)\n",
    "vhouse_df = vhouse_df.select(['features', 'status'])\n",
    "vhouse_df.show()"
   ]
  },
  {
   "cell_type": "code",
   "execution_count": 8,
   "metadata": {},
   "outputs": [
    {
     "name": "stdout",
     "output_type": "stream",
     "text": [
      "Coefficients: [0.0,0.0,0.0]\n",
      "Intercept: 0.17196221088066022\n"
     ]
    }
   ],
   "source": [
    "from pyspark.ml.regression import LinearRegression\n",
    "lr = LinearRegression(featuresCol = 'features', labelCol='status', maxIter=10, regParam=0.3, elasticNetParam=0.8)\n",
    "lr_model = lr.fit(vhouse_df)\n",
    "print(\"Coefficients: \" + str(lr_model.coefficients))\n",
    "print(\"Intercept: \" + str(lr_model.intercept))"
   ]
  },
  {
   "cell_type": "code",
   "execution_count": 9,
   "metadata": {},
   "outputs": [
    {
     "name": "stdout",
     "output_type": "stream",
     "text": [
      "RMSE: 0.377348\n",
      "r2: 0.000000\n"
     ]
    }
   ],
   "source": [
    "trainingSummary = lr_model.summary\n",
    "print(\"RMSE: %f\" % trainingSummary.rootMeanSquaredError)\n",
    "print(\"r2: %f\" % trainingSummary.r2)"
   ]
  },
  {
   "cell_type": "code",
   "execution_count": 10,
   "metadata": {},
   "outputs": [],
   "source": [
    "loan_test_df = sqlContext.read.format('com.databricks.spark.csv').options(header='true', inferschema='true').load('test_file.csv')\n"
   ]
  },
  {
   "cell_type": "code",
   "execution_count": 11,
   "metadata": {},
   "outputs": [
    {
     "name": "stdout",
     "output_type": "stream",
     "text": [
      "+--------------------+------+\n",
      "|            features|status|\n",
      "+--------------------+------+\n",
      "|[2.34129554655870...|   0.0|\n",
      "|[0.41833333333333...|   0.0|\n",
      "|[0.43913461538461...|   0.0|\n",
      "| [0.13685,14.0,60.0]|   0.0|\n",
      "|[0.07062761506276...|   0.0|\n",
      "|     [0.0,10.0,36.0]|   0.0|\n",
      "|[5.67142857142857...|   0.0|\n",
      "|[0.28488888888888...|   1.0|\n",
      "|   [0.8182,1.0,36.0]|   0.0|\n",
      "| [1.24575,10.0,36.0]|   0.0|\n",
      "|  [0.6837,13.0,36.0]|   0.0|\n",
      "|[0.59367857142857...|   0.0|\n",
      "|[0.15895953757225...|   0.0|\n",
      "|[0.61481605351170...|   0.0|\n",
      "|[0.49770833333333...|   0.0|\n",
      "|[16.4970625,6.0,6...|   0.0|\n",
      "|    [3.352,1.0,60.0]|   0.0|\n",
      "| [0.70152,13.0,36.0]|   0.0|\n",
      "|[0.37882142857142...|   0.0|\n",
      "|     [0.0,19.0,36.0]|   0.0|\n",
      "+--------------------+------+\n",
      "only showing top 20 rows\n",
      "\n"
     ]
    }
   ],
   "source": [
    "from pyspark.ml.feature import VectorAssembler\n",
    "vectorAssembler = VectorAssembler(inputCols = ['bc_open_to_buy','mo_sin_rcnt_tl','term'], outputCol = 'features')\n",
    "vhouse_test_df = vectorAssembler.transform(loan_test_df)\n",
    "vhouse_test_df = vhouse_test_df.select(['features', 'status'])\n",
    "vhouse_test_df.show()"
   ]
  },
  {
   "cell_type": "code",
   "execution_count": 12,
   "metadata": {},
   "outputs": [
    {
     "name": "stdout",
     "output_type": "stream",
     "text": [
      "+-------------------+------+--------------------+\n",
      "|         prediction|status|            features|\n",
      "+-------------------+------+--------------------+\n",
      "|0.17196221088066022|   0.0|[2.34129554655870...|\n",
      "|0.17196221088066022|   0.0|[0.41833333333333...|\n",
      "|0.17196221088066022|   0.0|[0.43913461538461...|\n",
      "|0.17196221088066022|   0.0| [0.13685,14.0,60.0]|\n",
      "|0.17196221088066022|   0.0|[0.07062761506276...|\n",
      "+-------------------+------+--------------------+\n",
      "only showing top 5 rows\n",
      "\n",
      "R Squared (R2) on test data = -0.00650958\n"
     ]
    }
   ],
   "source": [
    "lr_predictions = lr_model.transform(vhouse_test_df)\n",
    "lr_predictions.select(\"prediction\",\"status\",\"features\").show(5)\n",
    "from pyspark.ml.evaluation import RegressionEvaluator\n",
    "lr_evaluator = RegressionEvaluator(predictionCol=\"prediction\", \\\n",
    "                 labelCol=\"status\",metricName=\"r2\")\n",
    "print(\"R Squared (R2) on test data = %g\" % lr_evaluator.evaluate(lr_predictions))"
   ]
  },
  {
   "cell_type": "code",
   "execution_count": null,
   "metadata": {},
   "outputs": [],
   "source": [
    "from pyspark.ml.classification import LogisticRegression\n",
    "\n",
    "# Load training data\n",
    "training = spark.read.format(\"libsvm\").load(\"data/mllib/sample_libsvm_data.txt\")\n",
    "\n",
    "lr = LogisticRegression(maxIter=10, regParam=0.3, elasticNetParam=0.8)\n",
    "\n",
    "# Fit the model\n",
    "lrModel = lr.fit(training)\n",
    "\n",
    "# Print the coefficients and intercept for logistic regression\n",
    "print(\"Coefficients: \" + str(lrModel.coefficients))\n",
    "print(\"Intercept: \" + str(lrModel.intercept))\n",
    "\n",
    "# We can also use the multinomial family for binary classification\n",
    "mlr = LogisticRegression(maxIter=10, regParam=0.3, elasticNetParam=0.8, family=\"multinomial\")\n",
    "\n",
    "# Fit the model\n",
    "mlrModel = mlr.fit(training)"
   ]
  },
  {
   "cell_type": "code",
   "execution_count": null,
   "metadata": {},
   "outputs": [],
   "source": []
  },
  {
   "cell_type": "code",
   "execution_count": null,
   "metadata": {},
   "outputs": [],
   "source": []
  },
  {
   "cell_type": "code",
   "execution_count": null,
   "metadata": {},
   "outputs": [],
   "source": []
  },
  {
   "cell_type": "code",
   "execution_count": null,
   "metadata": {},
   "outputs": [],
   "source": []
  }
 ],
 "metadata": {
  "kernelspec": {
   "display_name": "Python 3",
   "language": "python",
   "name": "python3"
  },
  "language_info": {
   "codemirror_mode": {
    "name": "ipython",
    "version": 3
   },
   "file_extension": ".py",
   "mimetype": "text/x-python",
   "name": "python",
   "nbconvert_exporter": "python",
   "pygments_lexer": "ipython3",
   "version": "3.7.3"
  }
 },
 "nbformat": 4,
 "nbformat_minor": 2
}
